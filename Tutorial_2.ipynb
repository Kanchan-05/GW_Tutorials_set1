{
  "nbformat": 4,
  "nbformat_minor": 0,
  "metadata": {
    "colab": {
      "name": "Tutorial 2.ipynb",
      "provenance": [],
      "collapsed_sections": [],
      "authorship_tag": "ABX9TyOD+86AAc+SHj1NLBz/Gl9W"
    },
    "kernelspec": {
      "name": "python3",
      "display_name": "Python 3"
    }
  },
  "cells": [
    {
      "cell_type": "markdown",
      "metadata": {
        "id": "-vDokVLFN1x-",
        "colab_type": "text"
      },
      "source": [
        "<h1><center><u><font color=\"red\"> Solution of Tutorial-1 </font></u> </center></h1> "
      ]
    },
    {
      "cell_type": "code",
      "metadata": {
        "id": "sHwfiS62MOxr",
        "colab_type": "code",
        "colab": {}
      },
      "source": [
        "import matplotlib.pyplot as plt\n",
        "import numpy as np\n",
        "\n",
        "# Global variables\n",
        "global MSUN,  PC, PI, COS\n",
        "\n",
        "# Solar Mass in seconds\n",
        "# GM/C^3\n",
        "MSUN = 4.925491025543575903411922162094833998e-6\n",
        "\n",
        "# One Parsec in seconds\n",
        "MPC = 1.0292712503e14\n",
        "\n",
        "# PI\n",
        "PI = np.pi\n",
        "\n",
        "# COS\n",
        "COS = np.cos"
      ],
      "execution_count": 0,
      "outputs": []
    },
    {
      "cell_type": "code",
      "metadata": {
        "id": "C70cOI3iML6K",
        "colab_type": "code",
        "colab": {}
      },
      "source": [
        "def td_newtonian_chirp(m1, m2, fnot, phi_not, distance, time_range):\n",
        "    \"\"\"\n",
        "    Compute time domain newtonian chirp h(t)\n",
        "    Parameters\n",
        "    ----------\n",
        "    m1: float\n",
        "        Mass of the compact object 1\n",
        "    m2: float\n",
        "        Mass of the compact object 2\n",
        "    fnot: float\n",
        "          Startig frequency of the Signal\n",
        "    phi_not: float\n",
        "             Phase at some time.\n",
        "    distance: float\n",
        "              Luminosity distance D to the source\n",
        "    time_range: array-like\n",
        "                Time array of the signal in sec\n",
        "    Return\n",
        "    ------\n",
        "    td_nchirp: array-like\n",
        "               Time domain Newtonian chirp h(t)\n",
        "    idx: array-like\n",
        "         Indices required for plotting\n",
        "    \"\"\"\n",
        "    \n",
        "    # Scaling\n",
        "    m1 *= MSUN\n",
        "    m2 *= MSUN\n",
        "    distance *= MPC\n",
        "    \n",
        "    # Total Mass\n",
        "    Total_mass = m1 + m2\n",
        "    \n",
        "    # Reduced Mass\n",
        "    Reduced_mass = m1 * m2 / Total_mass\n",
        "    \n",
        "    # Chirp Mass\n",
        "    Chirp_mass = Reduced_mass**(3./5.) * Total_mass**(2./5.)\n",
        "\n",
        "    # Duration of Coalescence time\n",
        "    tc_duration = 5. / (256. * (PI * fnot)**(8./3.) * Chirp_mass**(5./3.))\n",
        "\n",
        "    # Index of time range, where coalescence time is greater than the time range\n",
        "    idx = time_range < tc_duration \n",
        "    # Coalescence time array\n",
        "    tc_array = time_range[idx]\n",
        "    # Initialize time domain Newtonian chirp array\n",
        "    td_nchirp = np.zeros(len(time_range))\n",
        "\n",
        "    # Frequency evolution\n",
        "    freq_evol = (Chirp_mass * fnot**9.) ** (1./8.)\n",
        "    freq_evol /= ((Chirp_mass * fnot)**(1./3.) - 256. * fnot**3. * Chirp_mass**2. * PI**(8./3.) * tc_array / 5.) ** (3./8.)\n",
        "\n",
        "    # Amplitude\n",
        "    amplitude = (4. * Chirp_mass**(5./3.) * PI**(2./3.) * freq_evol**(2./3.)) / distance\n",
        "\n",
        "    # Phase\n",
        "    phase = phi_not - 2. * (1./(256. * (PI*Chirp_mass*fnot) ** (8./3.)) - tc_array / (5. * Chirp_mass)) ** (5./8.)\n",
        "\n",
        "    # Time domain Newtonian chirp\n",
        "    td_nchirp[idx] = amplitude * COS(phase)\n",
        "\n",
        "    # ----------------------------------------------------------------------- #\n",
        "    # ----------------------------------------------------------------------- #\n",
        "    print(\"------------------------------------------------------------------\")\n",
        "    print(\" Chirp Mass (Solar Mass sec)             :\", Chirp_mass)\n",
        "    print(\" Coalescence time (sec)                  :\", tc_duration)\n",
        "    print(\" Frequency evolution - First data point  :\", freq_evol[0]) \n",
        "    print(\" Amplitude - First data point            :\", amplitude[0])\n",
        "    print(\" Phase - First data point                :\", phase[0])\n",
        "    print(\" TD Newtonian chirp - First data point   :\", td_nchirp[0])\n",
        "    print(\"------------------------------------------------------------------\")\n",
        "\n",
        "    return td_nchirp, idx, tc_duration"
      ],
      "execution_count": 0,
      "outputs": []
    },
    {
      "cell_type": "markdown",
      "metadata": {
        "id": "RzX4KEcbF_qb",
        "colab_type": "text"
      },
      "source": [
        "---\n",
        "<h1><center><u><font color=\"red\">Tutorial 2 </font></u> </center></h1> \n",
        "\n",
        "<h1><center><font color=\"blue\"> Simple Matched Filter - Cross Correlation </font></center></h1> \n",
        "\n",
        "Let us construct a simple matched filter (non-optimal) by simply cross-correlating the noisy data - which has the GW signal deeply embedded in it - with a template.\n",
        "\n",
        "The cross correlation function $R(\\tau)$ for two time series vectors $f(t)$ and $\\hat{h}(t)$ for a time shift $\\tau$ is defined as,\n",
        "\n",
        "$$ R(\\tau) = \\frac{1}{T}\\int_{-T}^{T} f(t) * \\hat{h}^*(t-\\tau)\\ dt, \\ \\ \\ lim \\ T \\rightarrow \\infty$$\n",
        "\n",
        "Here, $^*$ denotes the complex conjugate and the normalized template vector $\\hat{h} = \\frac{h}{||h||}$. If $\\sigma^2$ is the variance of noise then the norm $||h||$ is defined as,\n",
        "\n",
        "$$ ||h||^2 = \\frac{1}{t_c}\\int_0^{t_c} \\frac{|h(t)|^2}{\\sigma^2}\\ dt. $$\n",
        "\n",
        "---\n",
        "\n",
        "<center><u><b><h1><font color=\"blue\"> Task </center></u></b></h1>\n",
        "\n",
        "Create a Gaussian noise vector and inject the GW template in it at t = 6 sec. Cross correlate this data with the normalized template. Plot the cross correlation.\n",
        "\n",
        "---"
      ]
    },
    {
      "cell_type": "code",
      "metadata": {
        "id": "6faZYk8FGwMK",
        "colab_type": "code",
        "colab": {}
      },
      "source": [
        "# Duration of the signal\n",
        "tduration = 16\n",
        "Fs = 4096\n",
        "sigma = 1e-21\n",
        "dt = 1./Fs\n",
        "\n",
        "# create a time vector \n",
        "time_array = np.arange(0, tduration, dt)\n",
        "\n",
        "# Time Domain Newtonian Chirp Signal\n",
        "chirp, index, tc_dur =td_newtonian_chirp(m1= 20, m2=10, fnot=30, phi_not=0, distance=100, time_range=time_array)\n",
        "\n",
        "# ----------------------------------------------------------------------- #\n",
        "# ----------------------------------------------------------------------- #"
      ],
      "execution_count": 0,
      "outputs": []
    },
    {
      "cell_type": "code",
      "metadata": {
        "id": "4MLAdHKSRvpk",
        "colab_type": "code",
        "colab": {}
      },
      "source": [
        ""
      ],
      "execution_count": 0,
      "outputs": []
    },
    {
      "cell_type": "code",
      "metadata": {
        "id": "3Nh-jFscRvke",
        "colab_type": "code",
        "colab": {}
      },
      "source": [
        ""
      ],
      "execution_count": 0,
      "outputs": []
    },
    {
      "cell_type": "code",
      "metadata": {
        "id": "ysEs4H26RvWh",
        "colab_type": "code",
        "colab": {}
      },
      "source": [
        ""
      ],
      "execution_count": 0,
      "outputs": []
    },
    {
      "cell_type": "code",
      "metadata": {
        "id": "K6LxI2FnRvRi",
        "colab_type": "code",
        "colab": {}
      },
      "source": [
        ""
      ],
      "execution_count": 0,
      "outputs": []
    },
    {
      "cell_type": "markdown",
      "metadata": {
        "id": "yjUOspXSRrCh",
        "colab_type": "text"
      },
      "source": [
        "<h3><center><u> <font color=\"brown\"> Stuff you may need to use </font> </u></center><h3>\n",
        "\n",
        "*   Array creation\n",
        "\n",
        "```\n",
        "np.arange(0., 10., 2.)\n",
        ">>> array([0., 2., 4., 6., 8.])\n",
        "\n",
        "np.linspace(0, 10, 11)\n",
        ">>> array([ 0.,  1.,  2.,  3.,  4.,  5.,  6.,  7.,  8.,  9., 10.])\n",
        "\n",
        "np.zeros((2,3))                                                                             \n",
        ">>> array([[0., 0., 0.],\n",
        "       [0., 0., 0.]])\n",
        "\n",
        "\n",
        "```\n",
        "\n",
        "\n",
        "*   Sample points from a Normal distribution with mean (loc), scale (sigma) and size (shape of array)\n",
        "\n",
        "```\n",
        "\n",
        "np.random.normal(loc=0.0, scale=1.0, size=(2,10))\n",
        ">>> array([[ 0.39133178, -2.21499361, -1.83827862, -0.15723072, -2.14407863,\n",
        "         0.31868262, -1.0411618 ,  0.28885505,  1.74539959,  1.4932617 ],\n",
        "       [ 0.07768785,  0.06267242,  0.81416789, -1.96280913,  0.81218201,\n",
        "        -0.16782135, -1.66461222, -0.61233767,  0.86096387, -1.45719472]])\n",
        "\n",
        "```\n",
        "*  Properties of a numpy array\n",
        "\n",
        "```\n",
        "\n",
        "a = np.array([-1, 2, 3, 5, -2, 7])\n",
        "a.sum()\n",
        ">>> 14\n",
        "\n",
        "abs(a)\n",
        ">>> array([1, 2, 3, 5, 2, 7])\n",
        "\n",
        "# array slicing \n",
        "a[2:4]\n",
        ">>> array([3, 5])\n",
        "\n",
        "np.roll(a, 3)\n",
        ">>> array([ 5, -2,  7, -1,  2,  3])\n",
        "\n",
        "```\n",
        "\n",
        "*  for loop\n",
        "\n",
        "```\n",
        "for i in range(3):\n",
        "    print(i)\n",
        ">>> 0\n",
        "    1\n",
        "    2\n",
        "\n",
        "```"
      ]
    },
    {
      "cell_type": "code",
      "metadata": {
        "id": "4wb3C2k3RrwR",
        "colab_type": "code",
        "colab": {}
      },
      "source": [
        ""
      ],
      "execution_count": 0,
      "outputs": []
    }
  ]
}
