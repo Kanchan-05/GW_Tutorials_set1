{
 "cells": [
  {
   "cell_type": "markdown",
   "metadata": {},
   "source": [
    "<div style=\"background-color:#057BA3; padding:6px; color:#ffffff;\">\n",
    "\n",
    "## IUCAA Finesse Workshop 18-22nd Dec 2019\n",
    "</div>\n"
   ]
  },
  {
   "cell_type": "markdown",
   "metadata": {},
   "source": [
    "# Plane Waves and Optical Interactions"
   ]
  },
  {
   "cell_type": "markdown",
   "metadata": {},
   "source": [
    "$\\renewcommand{\\Re}{\\operatorname{Re}}\n",
    "\\renewcommand{\\Im}{\\operatorname{Im}}$\n",
    "Welcome to the Finesse Workshop! Our aim is to introduce you to modelling gravitational wave detectors with Finesse. By the end of the workshop we hope to have taught you how to model various aspects of a detector, such as producing your own quantum noise limited sensitivity curve for a gravitational wave detector.\n",
    "\n",
    "These sessions together will cover the following material:\n",
    "  * Fabry-Perot interferometers\n",
    "  * Modulation and demodulation\n",
    "  * Michelson interferometers\n",
    "  * Locking and control\n",
    "  * Noise couplings\n",
    "  * Quantum noise\n",
    "\n",
    "**Important reference material**:\n",
    "  * Review article on interferometry: <a href=\"https://link.springer.com/article/10.1007/s41114-016-0002-8\">Interferometer Techniques for Gravitational-Wave Detection</a>\n",
    "  * Finesse main page: <a href=\"http://www.gwoptics.org/finesse\">http://www.gwoptics.org/finesse</a>\n",
    "  * <a href=\"http://www.gwoptics.org/finesse/reference/\">Finesse online syntax reference</a>\n",
    "  * <a href=\"http://www.gwoptics.org/finesse/reference/cheatsheet.php\">Finesse online cheatsheet/FAQ</a>\n",
    "  * <a href=\"http://kvasir.sr.bham.ac.uk/redmine/attachments/download/131/Finesse_2.0_manual.pdf\">Finesse manual</a> (>200 pages pdf file)\n",
    "  \n",
    "Before we get started modelling optics in Finesse, it is important to understand the basic physics involved in an optics simulation. Here, we will briefly introduce the concepts that Finesse is based on. All of this information, and a lot more, is explained in detail in [\n",
    "Interferometer Techniques for Gravitational-Wave Detection](https://link.springer.com/article/10.1007/s41114-016-0002-8).\n",
    "\n",
    "*N.B. Amongst ourselves, we often refer to this paper (Interferometer Techniques for Gravitational-Wave Detection) as the \"Living Review\" (the journal it was published in). Just remember that if we mention the Living Review, we mean [\n",
    "Interferometer Techniques for Gravitational-Wave Detection](https://link.springer.com/article/10.1007/s41114-016-0002-8).*"
   ]
  },
  {
   "cell_type": "markdown",
   "metadata": {},
   "source": [
    "#### In this notebook:\n",
    "  - Learn about the mathematical basis for almost all of the modelling we'll be doing\n",
    "  - See how different components are represented in this basis"
   ]
  },
  {
   "cell_type": "markdown",
   "metadata": {},
   "source": [
    "## Plane Waves\n",
    "\n",
    "The choice of mathematical description used to describe light fields depends on the problems that we wish to solve. We start from the full description of the electric field for a par-axial (beam like) light field:\n",
    "\n",
    "$$\n",
    "\\vec{E}(x, y, z, t) = E_0 \\vec{e}_p \\cos(\\omega t - \\vec{k}\\vec{r} + \\varphi) \\cdot U(x, y, z).\n",
    "$$\n",
    "\n",
    "The notation used is as follows:\n",
    "\n",
    "| Notation &nbsp; &nbsp; &nbsp; &nbsp; &nbsp;              | Meaning |\n",
    ":-----------------------|:---------|\n",
    "| $\\vec{a}$             | Vector  |\n",
    "| $\\vec{e}_p$           | Unit vector in direction of polarisation  |\n",
    "| $\\vec{E}(x, y, z, t)$ | Electric field vector as a function of space and time  |\n",
    "| $E_0$                 | Electric field amplitude in units of $\\mathrm{V/m}$ |\n",
    "| $\\omega$              | Angular frequency of oscillation, $\\omega = 2\\pi f$ |\n",
    "| $\\vec{k}$             | Vector in the direction of the beam axis, $k = |\\vec{k}| = \\omega / c$ |\n",
    "| $\\varphi$             | Phase offset in radians |\n",
    "| $U(x, y, z)$          | Function descripting the shape of the beam |\n",
    "\n",
    "This is quite a complex equation. For the purpose of modelling interferometers for gravitational wave detection, we can make some assumptions to simplify it:\n",
    "\n",
    "1. We can ignore polarisation if there are no polarising elements present:\n",
    "\n",
    "$$\\vec{e}_p \\rightarrow 1, \\vec{E} \\rightarrow E$$\n",
    "\n",
    "2. We align our coordinate system with the beam axis:\n",
    "\n",
    "$$\\vec{K}\\cdot\\vec{r} = k \\cdot z \\rightarrow \\cos(\\omega t - \\vec{k}\\vec{r} + \\varphi) = \\cos(\\omega t - kz + \\varphi)$$\n",
    "\n",
    "3. For now, we ignore the shape of the beam - this is called the \"plane wave\" model:\n",
    "\n",
    "$$U(x, y, z) = 1$$\n",
    "\n",
    "Note that this last point implies that the beam has an infinitely large cross-section, as it is now completely independent of $x$ and $y$. This is clearly unrealistic, so we don't model plane waves in practice. However, the equations for plane waves are useful as a model for laser beams, with the power on the axis of the plane wave representing the power in the beam, so we model just this on-axis part of the plane wave.\n",
    "\n",
    "All of these points together give us a simplified equation for the beam,\n",
    "\n",
    "$$ E = E_0 \\cos(\\omega t - k z + \\varphi). $$"
   ]
  },
  {
   "cell_type": "markdown",
   "metadata": {},
   "source": [
    "### Detecting beams\n",
    "\n",
    "When we detect a beam, we use a component called a photodiode, which produces an electrical signal proportional to the **power** of the beam incident upon it (not the electric field!). The power at any one point $z_0$ is the cross-sectional integral of the beam's intensity,\n",
    "\n",
    "$$P = \\int\\int I(x, y, z_0)\\,\\mathrm{d}x\\mathrm{d}y,$$\n",
    "\n",
    "where $I = c\\varepsilon_0 E^2$. Setting $z_0 = 0$ to the location of our photodiode for convenience,\n",
    "\n",
    "$$\n",
    "\\begin{align}\n",
    "P &= c\\varepsilon_0 E_0^2 \\cos^2(\\omega t)\\\\\n",
    "&= \\frac{c\\varepsilon_0}{2} E_0^2 \\left(1 + \\cos(2 \\omega t)\\right)\\\\\n",
    "&= \\frac{c\\varepsilon_0}{2} E_0^2\n",
    "\\end{align}\n",
    "$$\n",
    "\n",
    "You may have noticed that the $\\cos(2\\omega t)$ term dissapeared at the end. This is due to the timescales involved; in gavitational wave detectors, $\\omega$ is on the order of $10^{15}\\,$Hz. This is far too fast for any photodiode to detect, so we see the power of the field as constant."
   ]
  },
  {
   "cell_type": "markdown",
   "metadata": {},
   "source": [
    "### Complex Notation\n",
    "Next, we introduce a complex notation for the field. We rewrite the real field as\n",
    "\n",
    "$$E' = E_0'\\cos(\\omega t - k z + \\varphi),$$\n",
    "and redefine $E$ as\n",
    "$$E = E_0 e^{i(\\omega t - k z)}$$\n",
    "with\n",
    "$$E_0 = E_0'e^{i\\varphi},$$\n",
    "\n",
    "allowing us to simplify various operations. For example, a change in the phase of the field by $\\phi$ can now be represented by a multiplication of $E$ with $e^{i\\phi}$ (This is especially important for the method Finesse uses to model interferometers).\n",
    "\n",
    "The electric field is now the real part of this complex field: $E' = \\Re\\{E\\}$. It is important to remember that $E$ is **not** the actual field (complex numbers never describe physical quantities), merely a convenience for us to do calculations with. Finally, we adjust the units of $E_0$ to be $\\sqrt{W}$ by absorbing a constant factor of $\\sqrt{c\\varepsilon_0 / 2}$ into our definition, so that the power in the field is simply given by $E_0 E_0^* = |E_0|^2$. We therefore have:\n",
    "\n",
    "$$E = E_0 e^{i(\\omega t - k z)}$$\n",
    "$$P = |E_0|^2$$\n",
    "\n",
    "This is the basis that we will work in for the rest of the workshop."
   ]
  },
  {
   "cell_type": "markdown",
   "metadata": {},
   "source": [
    "## Optical Interactions With Components\n",
    "\n",
    "There are only 5 main components needed to understand how a basic interferometer works. Lasers act simply as a source of the electric field, and we have already seen how photodiodes detect the power in the beam at a specific point. We'll now take a look at the other three: mirrors, spaces, and beamsplitters.\n",
    "\n",
    "### Mirror"
   ]
  },
  {
   "cell_type": "markdown",
   "metadata": {},
   "source": [
    "<img src=\"assets/01-mirror_3d.svg\" style=\"width: 300px; margin: auto; display: block;\"/>"
   ]
  },
  {
   "cell_type": "markdown",
   "metadata": {},
   "source": [
    "The image above shows laser light incident on a mirror, with some light transmitted and some reflected. For the purposes of illustration, we normally draw a simplified representation of the above mirror, with the fields labeled similarly to the below image."
   ]
  },
  {
   "cell_type": "markdown",
   "metadata": {},
   "source": [
    "<img src=\"assets/01-mirror.svg\" style=\"width: 200px; margin: auto; display: block;\"/>"
   ]
  },
  {
   "cell_type": "markdown",
   "metadata": {},
   "source": [
    "For now, we will not consider the thickness of the mirror, and treat it as an infinitely thin plane. We can write the incident field $E_\\mathrm{in}$ as\n",
    "\n",
    "$$E_\\mathrm{in} = E_0 e^{i\\omega t},$$\n",
    "\n",
    "taking $z=0$ to be the mirror's position for convenience. Consider what happens to this field upon reflection or transmission through the mirror. The $e^{i\\omega t}$ term cannot change, as the field must be continuous at all points. The change must therefore be solely in the amplitude and phase of the field, $E_0$:\n",
    "\n",
    "$$\n",
    "\\begin{align}\n",
    "E_r &= r E_\\mathrm{in}\\\\\n",
    "E_t &= it E_\\mathrm{in}\n",
    "\\end{align}\n",
    "$$\n",
    "\n",
    "where $r$ is the **amplitude** reflectivity of the mirror, and $t$ is its amplitude transmissivity. We call these equations the **coupling equations** for the mirror. The $i$ on transmission represents a $90^\\circ$ phase change, which arises from energy conservation (for a full explanation of this, see the Living Review). Conversely, we can use the mirror's **power** reflectivity $R = r^2$ and transmissivity $T = t^2$. Real optics also have some amount of loss due to e.g. absorbing some of the laser light. For now, we will ignore any losses, meaning that $R + T = 1$ due to energy conservation.\n",
    "\n",
    "*N.B. We've made many simplifications to reach this representation of a mirror. For the purposes of modelling the interferometers used in gravitational wave detectors, experience tells us that these simplifications are justified, but it is useful to remember that they are there for the situations where they do not hold.*"
   ]
  },
  {
   "cell_type": "markdown",
   "metadata": {},
   "source": [
    "<div style=\"background-color:#cceffc;padding:10px;\">\n",
    "\n",
    "### Task 1: Mirror interaction\n",
    "\n",
    "Given an input field $E_\\mathrm{in}$ with a power of 1W incident on a mirror with reflectivity $r = 0.8$, calculate the power of:\n",
    "1. The reflected field, $E_r$\n",
    "2. The transmitted field, $E_t$ \n",
    "</div>"
   ]
  },
  {
   "cell_type": "markdown",
   "metadata": {},
   "source": [
    "In an interferometer, many mirrors will have light incident on both sides, not just one, so our picture above is incomplete. When multiple fields overlap, they simply add together. This allows us to write the full coupling equations for our mirror:"
   ]
  },
  {
   "cell_type": "markdown",
   "metadata": {},
   "source": [
    "<img src=\"assets/01-mirror_full.svg\" style=\"width: 200px; margin: auto; display: block;\"/>"
   ]
  },
  {
   "cell_type": "markdown",
   "metadata": {},
   "source": [
    "$$\n",
    "\\begin{align}\n",
    "a_2 &= r a_3 + it a_1\\\\\n",
    "a_4 &= r a_1 + it a_3\n",
    "\\end{align}\n",
    "$$\n",
    "\n",
    "There's a slight change in notation here, as we've renamed our various fields as $a_n$. They're just the same complex $E$ fields as before however. This is the notation used from hereon, and also in the Living Review."
   ]
  },
  {
   "cell_type": "markdown",
   "metadata": {},
   "source": [
    "### Space"
   ]
  },
  {
   "cell_type": "markdown",
   "metadata": {},
   "source": [
    "<img src=\"assets/01-space.svg\" style=\"width: 300px; margin: auto; display: block;\"/>"
   ]
  },
  {
   "cell_type": "markdown",
   "metadata": {},
   "source": [
    "Propagation through free space causes a phase change in the light proportional to the length of the space:\n",
    "\n",
    "$$\n",
    "\\begin{align}\n",
    "a_2 &= a_1 e^{-i k L}\\\\\n",
    "a_4 &= a_3 e^{-i k L}\n",
    "\\end{align}\n",
    "$$\n",
    "\n",
    "Remember that $k$ is the wavenumber of the light, $\\omega / c$, so this phase change depends on the light's frequency."
   ]
  },
  {
   "cell_type": "markdown",
   "metadata": {},
   "source": [
    "### Beamsplitter"
   ]
  },
  {
   "cell_type": "markdown",
   "metadata": {},
   "source": [
    "<img src=\"assets/01-beamsplitter.svg\" style=\"width: 200px; margin: auto; display: block;\"/>"
   ]
  },
  {
   "cell_type": "markdown",
   "metadata": {},
   "source": [
    "Beamsplitters can be considered as rotated mirrors; the only difference for now is the number of separate fields present. The couplings are as you might expect:\n",
    "\n",
    "$$\n",
    "\\begin{align}\n",
    "a_2 &= r a_1 + it a_7\\\\\n",
    "a_4 &= r a_7 + it a_1\\\\\n",
    "a_6 &= r a_5 + it a_3\\\\\n",
    "a_8 &= r a_3 + it a_5\\\\\n",
    "\\end{align}\n",
    "$$"
   ]
  },
  {
   "cell_type": "markdown",
   "metadata": {},
   "source": [
    "## Aside: Coupling Matrices\n",
    "\n",
    "As an alternative to the sets of equations given above, we can write the field couplings at a component as a matrix. For a mirror, the coupling matrix would be:\n",
    "\n",
    "$$\n",
    "\\begin{pmatrix}\n",
    "a_2\\\\\n",
    "a_4\n",
    "\\end{pmatrix}\n",
    "=\n",
    "\\begin{pmatrix}\n",
    "it & r\\\\\n",
    "r & it\n",
    "\\end{pmatrix}\n",
    "\\begin{pmatrix}\n",
    "a_1\\\\\n",
    "a_3\n",
    "\\end{pmatrix}\n",
    "$$\n",
    "\n",
    "and for a space:\n",
    "\n",
    "$$\n",
    "\\begin{pmatrix}\n",
    "a_2\\\\\n",
    "a_4\n",
    "\\end{pmatrix}\n",
    "=\n",
    "\\begin{pmatrix}\n",
    "e^{-i k L} & 0\\\\\n",
    "0 & e^{-i k L}\n",
    "\\end{pmatrix}\n",
    "\\begin{pmatrix}\n",
    "a_1\\\\\n",
    "a_3\n",
    "\\end{pmatrix}\n",
    "$$\n",
    "\n",
    "This is especially helpful when it comes to modelling these components on a computer, as many highly-efficient algorithms have been developed specifically for solving matrix problems like these. It also highlights one of the key advantages of the complex notation you've just been introduced to; if phase changes couldn't be represented by a simple multiplication, this matrix formulation would not work, and numerical modelling of detectors would be much more complicated."
   ]
  }
 ],
 "metadata": {
  "kernelspec": {
   "display_name": "Python 3",
   "language": "python",
   "name": "python3"
  },
  "language_info": {
   "codemirror_mode": {
    "name": "ipython",
    "version": 3
   },
   "file_extension": ".py",
   "mimetype": "text/x-python",
   "name": "python",
   "nbconvert_exporter": "python",
   "pygments_lexer": "ipython3",
   "version": "3.5.2"
  }
 },
 "nbformat": 4,
 "nbformat_minor": 4
}
