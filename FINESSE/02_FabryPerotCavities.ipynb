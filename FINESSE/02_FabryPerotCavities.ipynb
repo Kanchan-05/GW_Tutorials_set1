{
 "cells": [
  {
   "cell_type": "markdown",
   "metadata": {},
   "source": [
    "<div style=\"background-color:#057BA3; padding:6px; color:#ffffff;\">\n",
    "\n",
    "## IUCAA Finesse Workshop 18-22nd Dec 2019\n",
    "</div>\n"
   ]
  },
  {
   "cell_type": "markdown",
   "metadata": {},
   "source": [
    "# Fabry-Perot Cavities"
   ]
  },
  {
   "cell_type": "markdown",
   "metadata": {},
   "source": [
    "#### In this notebook:\n",
    "  - Calculate the response curve of a Fabry-Perot Cavity\n",
    "  - Learn about the uses and features of this component"
   ]
  },
  {
   "cell_type": "markdown",
   "metadata": {},
   "source": [
    "We now have formulas for the couplings of each of the components necessary to describe an interferometer. To begin with, let's consider one of the simplest interferometers possible; The Fabry-Perot cavity. The image below shows such a cavity, made up of two mirrors with **amplitude** reflectivities $r_1, r_2$ and transmissivities $t_1, t_2$."
   ]
  },
  {
   "cell_type": "markdown",
   "metadata": {},
   "source": [
    "<img src=\"assets/02-cavity.svg\" style=\"width: 400px; margin: auto; display: block;\"/>"
   ]
  },
  {
   "cell_type": "markdown",
   "metadata": {},
   "source": [
    "<div style=\"background-color:#cceffc;padding:10px;\">\n",
    "\n",
    "### Task 1: Cavity transmission\n",
    "\n",
    "Using the coupling equations given in the previous notebook, calculate the power in the field transmitted through the cavity above, $P_\\mathrm{trans}$, in terms of the input power $P_0$. Can you see how a cavity could be used to detect gravitational waves?\n",
    "    \n",
    "**Hint:** Try calculating each field present, starting with the input: $a_1 \\rightarrow a_2 \\rightarrow a_2'$ etc.\n",
    "</div>"
   ]
  },
  {
   "cell_type": "markdown",
   "metadata": {},
   "source": [
    "## Cavity Features\n",
    "\n",
    "Below, we've plotted how the transmitted power you've just derived varies with either the length of the cavity, $L$, or the frequency of the laser, $f$."
   ]
  },
  {
   "cell_type": "markdown",
   "metadata": {},
   "source": [
    "<img src=\"assets/02-cavity_response.svg\" style=\"width: 500px; margin: auto; display: block;\"/>"
   ]
  },
  {
   "cell_type": "markdown",
   "metadata": {},
   "source": [
    "As $f$ and $L$ change, we see the transmitted power rise and fall. Note that the shape will also be the same for the circulating power inside the cavity—more on this later. We say that the cavity is \"on resonance\" when the circulating power is at a maximum. The key quantities of this plot that we are interested in are the difference between two resonances, known as the \"Free Spectral Range\" (FSR), and the \"Full Width at Half Maximum\" (FWHM) of each of the peaks. The \"Finesse\", $\\mathcal{F}$, or quality factor of the cavity is given by the ratio:\n",
    "\n",
    "$$\n",
    "\\mathcal{F} = \\frac{\\mathrm{FSR}}{\\mathrm{FWHM}}\n",
    "$$\n",
    "\n",
    "We'll have a look at what the finesse means for the behaviour of the cavity later."
   ]
  },
  {
   "cell_type": "markdown",
   "metadata": {},
   "source": [
    "<div style=\"background-color:#cceffc;padding:10px;\">\n",
    "\n",
    "### Task 2: Resonances\n",
    "\n",
    "1. Why is a change in $f$ or $L$ equivalent?\n",
    "1. What is the condition on $f$ and $L$ for resonance in a cavity? (When is your equation for power maximum?)\n",
    "1. What is the FSR of the cavity, in terms of the frequency $f$?\n",
    "</div>"
   ]
  },
  {
   "cell_type": "markdown",
   "metadata": {},
   "source": [
    "From the plot above we can see that on resonance, the cavity transmits all of the input light from the laser, with the amount transmitted decreasing as we move away from resonance. This shows one of the uses for cavities: a **spectral filter**. If light at the resonance frequency of the cavity, $\\omega_0$, is incident upon it, it will all pass through. Light at different frequencies will be partially reflected, wih more and more being reflected as we move away from resonance. This leaves us with a beam mostly made up of frequencies near the resonance frequency.\n",
    "\n",
    "The spectral filtering property of a cavity can also be used for another purpose. By measuring the amount of light transmitted, we can clearly see any deviation of the cavity length or the laser frequency from resonance, as the measured power will decrease. In this way, a cavity can be used to **stabilise** a light source, by allowing us to measure the frequency very precisely.\n",
    "\n",
    "While these are both useful features of cavities, they are not the main reason we use them in gravitational wave detectors. It's helpful to look first at the power of the field circulating *inside* the cavity, for example that of $a_4$ in our diagram:\n",
    "\n",
    "$$\n",
    "P_\\mathrm{circ} = P_0 \\frac{T_1 R_2}{1 + R_1 R_2 - r_1 r_2 \\cos{2 k L}}\n",
    "$$\n",
    "\n",
    "You should notice that this looks very similar to your equation for the power transmitted through the cavity. In fact, all cavity fields have this same shape! The only difference is the factor $R_2$ instead of $T_2$ in the numerator, which will vary depending on where in the cavity you measure the field. This change leads to the most useful feature of cavities for GW detectors. Let's plot the power again, this time looking at the circulating power:"
   ]
  },
  {
   "cell_type": "markdown",
   "metadata": {},
   "source": [
    "<img src=\"assets/02-circulating_power.svg\" style=\"width: 500px; margin: auto; display: block;\"></a>"
   ]
  },
  {
   "cell_type": "markdown",
   "metadata": {},
   "source": [
    "You can see that on resonance, we have much more power circulating in the cavity than we put in! **This is the main reason we use cavities in GW interferometers.** Cavities allow us to achieve powers greater than we ever could with simply a laser. The most powerful sustained lasers we have today reach ~1 kW; the arm cavities in LIGO have 750 kW of laser power circulating in them!"
   ]
  },
  {
   "cell_type": "markdown",
   "metadata": {},
   "source": [
    "### Cavity Finesse\n",
    "\n",
    "We have already mentioned that the finesse of a cavity is its quality factor. This is clear if we plot low and high finesse cavities together:\n",
    "\n",
    "<img src=\"assets/02-cavity_finesse.svg\" style=\"width: 500px; margin: auto; display: block;\"></a>\n",
    "\n",
    "For the high finesse cavity, the power buildup at resonance is much greater than in the low finesse cavity, but off-resonance the buildup is much lower.\n",
    "\n",
    "In general, the finesse of a cavity is a complicated equation, as it depends on the FWHM of the resonances (which is itself complicated). In interferometers for GW detection, however, we are often only interested in high-finesse cavities where $r_1$ and $r_2$ are close to 1. In this case, we can approximate:\n",
    "\n",
    "$$\n",
    "\\begin{align}\n",
    "\\mathcal{F} &\\approx \\frac{\\pi\\sqrt{r_1 r_2}}{1 - r_1 r_2}\\\\\n",
    "&\\approx \\frac{\\pi}{1 - r_1 r_2}\n",
    "\\end{align}\n",
    "$$"
   ]
  },
  {
   "cell_type": "markdown",
   "metadata": {},
   "source": [
    "## Why use Finesse?\n",
    "\n",
    "Hopefully by now you've seen that the mathematics behind deriving properties of just a simple two mirror setup can be very complicated, even with all the approximations we've made. For a full interferometer layout, there can be up to a hundred or so components involved, with multiple light frequencies and non-plane-wave beams; doing the calculations on paper is infeasible! Instead, we can use computers to do the work for us, by simulating the interferometer numerically. This is the purpose of Finesse, which you will be introduced to in the next session."
   ]
  }
 ],
 "metadata": {
  "kernelspec": {
   "display_name": "Python 3",
   "language": "python",
   "name": "python3"
  },
  "language_info": {
   "codemirror_mode": {
    "name": "ipython",
    "version": 3
   },
   "file_extension": ".py",
   "mimetype": "text/x-python",
   "name": "python",
   "nbconvert_exporter": "python",
   "pygments_lexer": "ipython3",
   "version": "3.5.2"
  }
 },
 "nbformat": 4,
 "nbformat_minor": 4
}
